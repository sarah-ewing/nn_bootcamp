{
 "cells": [
  {
   "cell_type": "code",
   "execution_count": 1,
   "metadata": {
    "collapsed": false,
    "scrolled": true
   },
   "outputs": [
    {
     "name": "stderr",
     "output_type": "stream",
     "text": [
      "/Users/florianmuellerklein/anaconda3/lib/python3.5/importlib/_bootstrap.py:222: RuntimeWarning: compiletime version 3.6 of module 'tensorflow.python.framework.fast_tensor_util' does not match runtime version 3.5\n",
      "  return f(*args, **kwds)\n",
      "/Users/florianmuellerklein/anaconda3/lib/python3.5/site-packages/h5py/__init__.py:34: FutureWarning: Conversion of the second argument of issubdtype from `float` to `np.floating` is deprecated. In future, it will be treated as `np.float64 == np.dtype(float).type`.\n",
      "  from ._conv import register_converters as _register_converters\n"
     ]
    }
   ],
   "source": [
    "import os\n",
    "import string\n",
    "#import argparse\n",
    "\n",
    "import numpy as np\n",
    "import tensorflow as tf"
   ]
  },
  {
   "cell_type": "markdown",
   "metadata": {},
   "source": [
    "# Loading saved models for inference\n",
    "\n",
    "Loading a saved inference graph is very similar to loading up a saved session. Breaking down the procedure into steps we have:\n",
    "\n",
    "1. Load the graph definition with tensorflow\n",
    "2. Make the loaded graph the default graph for the session\n",
    "3. Retrieve the input placeholders and output tensors from the graph\n",
    "4. Push data through the graph using a `feed_dict` like normal\n",
    "\n",
    "In this example we will build a pig latin translation program using the saved inference graph for the encoder-decoder network. \n",
    "\n",
    "### Load the inference graph\n",
    "\n",
    "Tensorflow provides file I/O capabilities within its `gfile` module. We can use that or the standard `with open('filename.pb', 'rb') as f:` methodology. They should both work for our case. If you happen to be using 'Google Cloud Storage' then you will have to use `gfile` rather than the conventional python methods. \n",
    "\n",
    "After reading the graph definition file we will load it in a way that allows us to interact with it by using `tf.import_graph_def()`. Which takes the parsed graph definition as it's first argument and a name. The name will be a prefix that is added to each of the names in the graph. For example, if we had something called 'outputs' in our original graph it will now be called 'name/outputs'. "
   ]
  },
  {
   "cell_type": "code",
   "execution_count": 2,
   "metadata": {
    "collapsed": false
   },
   "outputs": [],
   "source": [
    "with tf.gfile.GFile('./saved_translator/piglatin_enc-dec.pb', 'rb') as f:\n",
    "    graph_definition = tf.GraphDef()\n",
    "    graph_definition.ParseFromString(f.read())\n",
    "    \n",
    "with tf.Graph().as_default() as graph:\n",
    "    tf.import_graph_def(graph_definition, name='encoder-decoder')"
   ]
  },
  {
   "cell_type": "markdown",
   "metadata": {},
   "source": [
    "### Viewing objects in the graph\n",
    "\n",
    "Sometimes you will load a graph that you didn't make, so you may have to look at all of the objects in the graph. We can loop through and print everything. Notice how everything now has our prefix added to all of the names. "
   ]
  },
  {
   "cell_type": "code",
   "execution_count": 3,
   "metadata": {
    "collapsed": false,
    "scrolled": true
   },
   "outputs": [
    {
     "name": "stdout",
     "output_type": "stream",
     "text": [
      "encoder-decoder/encoder_input\n",
      "encoder-decoder/embeddings\n",
      "encoder-decoder/embeddings/read\n",
      "encoder-decoder/input_embedding/embedding_lookup\n",
      "encoder-decoder/encoder/rnn/Rank\n",
      "encoder-decoder/encoder/rnn/range/start\n",
      "encoder-decoder/encoder/rnn/range/delta\n",
      "encoder-decoder/encoder/rnn/range\n",
      "encoder-decoder/encoder/rnn/concat/values_0\n",
      "encoder-decoder/encoder/rnn/concat/axis\n",
      "encoder-decoder/encoder/rnn/concat\n",
      "encoder-decoder/encoder/rnn/transpose\n",
      "encoder-decoder/encoder/rnn/DropoutWrapperZeroState/BasicLSTMCellZeroState/Const\n",
      "encoder-decoder/encoder/rnn/DropoutWrapperZeroState/BasicLSTMCellZeroState/Const_1\n",
      "encoder-decoder/encoder/rnn/DropoutWrapperZeroState/BasicLSTMCellZeroState/concat/axis\n",
      "encoder-decoder/encoder/rnn/DropoutWrapperZeroState/BasicLSTMCellZeroState/concat\n",
      "encoder-decoder/encoder/rnn/DropoutWrapperZeroState/BasicLSTMCellZeroState/zeros/Const\n",
      "encoder-decoder/encoder/rnn/DropoutWrapperZeroState/BasicLSTMCellZeroState/zeros\n",
      "encoder-decoder/encoder/rnn/DropoutWrapperZeroState/BasicLSTMCellZeroState/Const_4\n",
      "encoder-decoder/encoder/rnn/DropoutWrapperZeroState/BasicLSTMCellZeroState/Const_5\n",
      "encoder-decoder/encoder/rnn/DropoutWrapperZeroState/BasicLSTMCellZeroState/concat_1/axis\n",
      "encoder-decoder/encoder/rnn/DropoutWrapperZeroState/BasicLSTMCellZeroState/concat_1\n",
      "encoder-decoder/encoder/rnn/DropoutWrapperZeroState/BasicLSTMCellZeroState/zeros_1/Const\n",
      "encoder-decoder/encoder/rnn/DropoutWrapperZeroState/BasicLSTMCellZeroState/zeros_1\n",
      "encoder-decoder/encoder/rnn/Shape\n",
      "encoder-decoder/encoder/rnn/strided_slice/stack\n",
      "encoder-decoder/encoder/rnn/strided_slice/stack_1\n",
      "encoder-decoder/encoder/rnn/strided_slice/stack_2\n",
      "encoder-decoder/encoder/rnn/strided_slice\n",
      "encoder-decoder/encoder/rnn/time\n",
      "encoder-decoder/encoder/rnn/TensorArray_1\n",
      "encoder-decoder/encoder/rnn/TensorArrayUnstack/Shape\n",
      "encoder-decoder/encoder/rnn/TensorArrayUnstack/strided_slice/stack\n",
      "encoder-decoder/encoder/rnn/TensorArrayUnstack/strided_slice/stack_1\n",
      "encoder-decoder/encoder/rnn/TensorArrayUnstack/strided_slice/stack_2\n",
      "encoder-decoder/encoder/rnn/TensorArrayUnstack/strided_slice\n",
      "encoder-decoder/encoder/rnn/TensorArrayUnstack/range/start\n",
      "encoder-decoder/encoder/rnn/TensorArrayUnstack/range/delta\n",
      "encoder-decoder/encoder/rnn/TensorArrayUnstack/range\n",
      "encoder-decoder/encoder/rnn/TensorArrayUnstack/TensorArrayScatter/TensorArrayScatterV3\n",
      "encoder-decoder/encoder/rnn/while/iteration_counter\n",
      "encoder-decoder/encoder/rnn/while/Enter\n",
      "encoder-decoder/encoder/rnn/while/Enter_1\n",
      "encoder-decoder/encoder/rnn/while/Enter_3\n",
      "encoder-decoder/encoder/rnn/while/Enter_4\n",
      "encoder-decoder/encoder/rnn/while/Merge\n",
      "encoder-decoder/encoder/rnn/while/Merge_1\n",
      "encoder-decoder/encoder/rnn/while/Merge_3\n",
      "encoder-decoder/encoder/rnn/while/Merge_4\n",
      "encoder-decoder/encoder/rnn/while/Less\n",
      "encoder-decoder/encoder/rnn/while/Less/Enter\n",
      "encoder-decoder/encoder/rnn/while/Less_1\n",
      "encoder-decoder/encoder/rnn/while/LogicalAnd\n",
      "encoder-decoder/encoder/rnn/while/LoopCond\n",
      "encoder-decoder/encoder/rnn/while/Switch\n",
      "encoder-decoder/encoder/rnn/while/Switch_1\n",
      "encoder-decoder/encoder/rnn/while/Switch_3\n",
      "encoder-decoder/encoder/rnn/while/Switch_4\n",
      "encoder-decoder/encoder/rnn/while/Identity\n",
      "encoder-decoder/encoder/rnn/while/Identity_1\n",
      "encoder-decoder/encoder/rnn/while/Identity_3\n",
      "encoder-decoder/encoder/rnn/while/Identity_4\n",
      "encoder-decoder/encoder/rnn/while/add/y\n",
      "encoder-decoder/encoder/rnn/while/add\n",
      "encoder-decoder/encoder/rnn/while/TensorArrayReadV3\n",
      "encoder-decoder/encoder/rnn/while/TensorArrayReadV3/Enter\n",
      "encoder-decoder/encoder/rnn/while/TensorArrayReadV3/Enter_1\n",
      "encoder-decoder/encoder/rnn/basic_lstm_cell/kernel\n",
      "encoder-decoder/encoder/rnn/basic_lstm_cell/kernel/read\n",
      "encoder-decoder/encoder/rnn/basic_lstm_cell/bias\n",
      "encoder-decoder/encoder/rnn/basic_lstm_cell/bias/read\n",
      "encoder-decoder/encoder/rnn/while/basic_lstm_cell/Const\n",
      "encoder-decoder/encoder/rnn/while/basic_lstm_cell/concat/axis\n",
      "encoder-decoder/encoder/rnn/while/basic_lstm_cell/concat\n",
      "encoder-decoder/encoder/rnn/while/basic_lstm_cell/MatMul\n",
      "encoder-decoder/encoder/rnn/while/basic_lstm_cell/MatMul/Enter\n",
      "encoder-decoder/encoder/rnn/while/basic_lstm_cell/BiasAdd\n",
      "encoder-decoder/encoder/rnn/while/basic_lstm_cell/BiasAdd/Enter\n",
      "encoder-decoder/encoder/rnn/while/basic_lstm_cell/split\n",
      "encoder-decoder/encoder/rnn/while/basic_lstm_cell/Const_2\n",
      "encoder-decoder/encoder/rnn/while/basic_lstm_cell/Add\n",
      "encoder-decoder/encoder/rnn/while/basic_lstm_cell/Sigmoid\n",
      "encoder-decoder/encoder/rnn/while/basic_lstm_cell/Mul\n",
      "encoder-decoder/encoder/rnn/while/basic_lstm_cell/Sigmoid_1\n",
      "encoder-decoder/encoder/rnn/while/basic_lstm_cell/Tanh\n",
      "encoder-decoder/encoder/rnn/while/basic_lstm_cell/Mul_1\n",
      "encoder-decoder/encoder/rnn/while/basic_lstm_cell/Add_1\n",
      "encoder-decoder/encoder/rnn/while/basic_lstm_cell/Tanh_1\n",
      "encoder-decoder/encoder/rnn/while/basic_lstm_cell/Sigmoid_2\n",
      "encoder-decoder/encoder/rnn/while/basic_lstm_cell/Mul_2\n",
      "encoder-decoder/encoder/rnn/while/add_1/y\n",
      "encoder-decoder/encoder/rnn/while/add_1\n",
      "encoder-decoder/encoder/rnn/while/NextIteration\n",
      "encoder-decoder/encoder/rnn/while/NextIteration_1\n",
      "encoder-decoder/encoder/rnn/while/NextIteration_3\n",
      "encoder-decoder/encoder/rnn/while/NextIteration_4\n",
      "encoder-decoder/encoder/rnn/while/Exit_3\n",
      "encoder-decoder/encoder/rnn/while/Exit_4\n",
      "encoder-decoder/start_tokens\n",
      "encoder-decoder/end_token\n",
      "encoder-decoder/Size\n",
      "encoder-decoder/embedding_lookup\n",
      "encoder-decoder/decoder/decoder/basic_lstm_cell/kernel\n",
      "encoder-decoder/decoder/decoder/basic_lstm_cell/kernel/read\n",
      "encoder-decoder/decoder/decoder/basic_lstm_cell/bias\n",
      "encoder-decoder/decoder/decoder/basic_lstm_cell/bias/read\n",
      "encoder-decoder/decoder/decoder/Projection/kernel\n",
      "encoder-decoder/decoder/decoder/Projection/kernel/read\n",
      "encoder-decoder/decoder_1/decoder/maximum_iterations\n",
      "encoder-decoder/decoder_1/decoder/Tile/input\n",
      "encoder-decoder/decoder_1/decoder/Tile/multiples\n",
      "encoder-decoder/decoder_1/decoder/Tile\n",
      "encoder-decoder/decoder_1/decoder/zero_suffix_shape\n",
      "encoder-decoder/decoder_1/decoder/concat/values_0\n",
      "encoder-decoder/decoder_1/decoder/concat/axis\n",
      "encoder-decoder/decoder_1/decoder/concat\n",
      "encoder-decoder/decoder_1/decoder/zeros/Const\n",
      "encoder-decoder/decoder_1/decoder/zeros\n",
      "encoder-decoder/decoder_1/decoder/LessEqual/y\n",
      "encoder-decoder/decoder_1/decoder/LessEqual\n",
      "encoder-decoder/decoder_1/decoder/LogicalOr\n",
      "encoder-decoder/decoder_1/decoder/Const\n",
      "encoder-decoder/decoder_1/decoder/TensorArray/size\n",
      "encoder-decoder/decoder_1/decoder/TensorArray\n",
      "encoder-decoder/decoder_1/decoder/while/Enter\n",
      "encoder-decoder/decoder_1/decoder/while/Enter_1\n",
      "encoder-decoder/decoder_1/decoder/while/Enter_3\n",
      "encoder-decoder/decoder_1/decoder/while/Enter_4\n",
      "encoder-decoder/decoder_1/decoder/while/Enter_5\n",
      "encoder-decoder/decoder_1/decoder/while/Enter_6\n",
      "encoder-decoder/decoder_1/decoder/while/Merge\n",
      "encoder-decoder/decoder_1/decoder/while/Merge_1\n",
      "encoder-decoder/decoder_1/decoder/while/Merge_3\n",
      "encoder-decoder/decoder_1/decoder/while/Merge_4\n",
      "encoder-decoder/decoder_1/decoder/while/Merge_5\n",
      "encoder-decoder/decoder_1/decoder/while/Merge_6\n",
      "encoder-decoder/decoder_1/decoder/while/Const\n",
      "encoder-decoder/decoder_1/decoder/while/All\n",
      "encoder-decoder/decoder_1/decoder/while/LogicalNot\n",
      "encoder-decoder/decoder_1/decoder/while/LoopCond\n",
      "encoder-decoder/decoder_1/decoder/while/Switch\n",
      "encoder-decoder/decoder_1/decoder/while/Switch_1\n",
      "encoder-decoder/decoder_1/decoder/while/Switch_3\n",
      "encoder-decoder/decoder_1/decoder/while/Switch_4\n",
      "encoder-decoder/decoder_1/decoder/while/Switch_5\n",
      "encoder-decoder/decoder_1/decoder/while/Switch_6\n",
      "encoder-decoder/decoder_1/decoder/while/Identity\n",
      "encoder-decoder/decoder_1/decoder/while/Identity_1\n",
      "encoder-decoder/decoder_1/decoder/while/Identity_3\n",
      "encoder-decoder/decoder_1/decoder/while/Identity_4\n",
      "encoder-decoder/decoder_1/decoder/while/Identity_5\n",
      "encoder-decoder/decoder_1/decoder/while/Identity_6\n",
      "encoder-decoder/decoder_1/decoder/while/BasicDecoderStep/basic_lstm_cell/Const\n",
      "encoder-decoder/decoder_1/decoder/while/BasicDecoderStep/basic_lstm_cell/concat/axis\n",
      "encoder-decoder/decoder_1/decoder/while/BasicDecoderStep/basic_lstm_cell/concat\n",
      "encoder-decoder/decoder_1/decoder/while/BasicDecoderStep/basic_lstm_cell/MatMul\n",
      "encoder-decoder/decoder_1/decoder/while/BasicDecoderStep/basic_lstm_cell/MatMul/Enter\n",
      "encoder-decoder/decoder_1/decoder/while/BasicDecoderStep/basic_lstm_cell/BiasAdd\n",
      "encoder-decoder/decoder_1/decoder/while/BasicDecoderStep/basic_lstm_cell/BiasAdd/Enter\n",
      "encoder-decoder/decoder_1/decoder/while/BasicDecoderStep/basic_lstm_cell/split\n",
      "encoder-decoder/decoder_1/decoder/while/BasicDecoderStep/basic_lstm_cell/Const_2\n",
      "encoder-decoder/decoder_1/decoder/while/BasicDecoderStep/basic_lstm_cell/Add\n",
      "encoder-decoder/decoder_1/decoder/while/BasicDecoderStep/basic_lstm_cell/Sigmoid\n",
      "encoder-decoder/decoder_1/decoder/while/BasicDecoderStep/basic_lstm_cell/Mul\n",
      "encoder-decoder/decoder_1/decoder/while/BasicDecoderStep/basic_lstm_cell/Sigmoid_1\n",
      "encoder-decoder/decoder_1/decoder/while/BasicDecoderStep/basic_lstm_cell/Tanh\n",
      "encoder-decoder/decoder_1/decoder/while/BasicDecoderStep/basic_lstm_cell/Mul_1\n",
      "encoder-decoder/decoder_1/decoder/while/BasicDecoderStep/basic_lstm_cell/Add_1\n",
      "encoder-decoder/decoder_1/decoder/while/BasicDecoderStep/basic_lstm_cell/Tanh_1\n",
      "encoder-decoder/decoder_1/decoder/while/BasicDecoderStep/basic_lstm_cell/Sigmoid_2\n",
      "encoder-decoder/decoder_1/decoder/while/BasicDecoderStep/basic_lstm_cell/Mul_2\n",
      "encoder-decoder/decoder_1/decoder/while/BasicDecoderStep/dropout/keep_prob\n",
      "encoder-decoder/decoder_1/decoder/while/BasicDecoderStep/dropout/Shape\n",
      "encoder-decoder/decoder_1/decoder/while/BasicDecoderStep/dropout/random_uniform/min\n",
      "encoder-decoder/decoder_1/decoder/while/BasicDecoderStep/dropout/random_uniform/max\n",
      "encoder-decoder/decoder_1/decoder/while/BasicDecoderStep/dropout/random_uniform/RandomUniform\n",
      "encoder-decoder/decoder_1/decoder/while/BasicDecoderStep/dropout/random_uniform/sub\n",
      "encoder-decoder/decoder_1/decoder/while/BasicDecoderStep/dropout/random_uniform/mul\n",
      "encoder-decoder/decoder_1/decoder/while/BasicDecoderStep/dropout/random_uniform\n",
      "encoder-decoder/decoder_1/decoder/while/BasicDecoderStep/dropout/add\n",
      "encoder-decoder/decoder_1/decoder/while/BasicDecoderStep/dropout/Floor\n",
      "encoder-decoder/decoder_1/decoder/while/BasicDecoderStep/dropout/div\n",
      "encoder-decoder/decoder_1/decoder/while/BasicDecoderStep/dropout/mul\n",
      "encoder-decoder/decoder_1/decoder/while/BasicDecoderStep/Projection/MatMul\n",
      "encoder-decoder/decoder_1/decoder/while/BasicDecoderStep/Projection/MatMul/Enter\n",
      "encoder-decoder/decoder_1/decoder/while/BasicDecoderStep/ArgMax/dimension\n",
      "encoder-decoder/decoder_1/decoder/while/BasicDecoderStep/ArgMax\n",
      "encoder-decoder/decoder_1/decoder/while/BasicDecoderStep/Equal\n",
      "encoder-decoder/decoder_1/decoder/while/BasicDecoderStep/Equal/Enter\n",
      "encoder-decoder/decoder_1/decoder/while/BasicDecoderStep/Const\n",
      "encoder-decoder/decoder_1/decoder/while/BasicDecoderStep/All\n",
      "encoder-decoder/decoder_1/decoder/while/BasicDecoderStep/cond/pred_id\n",
      "encoder-decoder/decoder_1/decoder/while/BasicDecoderStep/cond/Enter\n",
      "encoder-decoder/decoder_1/decoder/while/BasicDecoderStep/cond/Switch_1\n",
      "encoder-decoder/decoder_1/decoder/while/BasicDecoderStep/cond/embedding_lookup\n",
      "encoder-decoder/decoder_1/decoder/while/BasicDecoderStep/cond/embedding_lookup/Enter\n",
      "encoder-decoder/decoder_1/decoder/while/BasicDecoderStep/cond/embedding_lookup/Switch\n",
      "encoder-decoder/decoder_1/decoder/while/BasicDecoderStep/cond/embedding_lookup/Switch_1\n",
      "encoder-decoder/decoder_1/decoder/while/BasicDecoderStep/cond/Merge\n",
      "encoder-decoder/decoder_1/decoder/while/LogicalOr\n",
      "encoder-decoder/decoder_1/decoder/while/add/y\n",
      "encoder-decoder/decoder_1/decoder/while/add\n",
      "encoder-decoder/decoder_1/decoder/while/GreaterEqual\n",
      "encoder-decoder/decoder_1/decoder/while/GreaterEqual/Enter\n",
      "encoder-decoder/decoder_1/decoder/while/LogicalOr_1\n",
      "encoder-decoder/decoder_1/decoder/while/Select_1\n",
      "encoder-decoder/decoder_1/decoder/while/Select_1/Enter\n",
      "encoder-decoder/decoder_1/decoder/while/Select_3\n",
      "encoder-decoder/decoder_1/decoder/while/Select_4\n",
      "encoder-decoder/decoder_1/decoder/while/TensorArrayWrite/TensorArrayWriteV3\n",
      "encoder-decoder/decoder_1/decoder/while/TensorArrayWrite/TensorArrayWriteV3/Enter\n",
      "encoder-decoder/decoder_1/decoder/while/add_2/y\n",
      "encoder-decoder/decoder_1/decoder/while/add_2\n",
      "encoder-decoder/decoder_1/decoder/while/NextIteration\n",
      "encoder-decoder/decoder_1/decoder/while/NextIteration_1\n",
      "encoder-decoder/decoder_1/decoder/while/NextIteration_3\n",
      "encoder-decoder/decoder_1/decoder/while/NextIteration_4\n",
      "encoder-decoder/decoder_1/decoder/while/NextIteration_5\n",
      "encoder-decoder/decoder_1/decoder/while/NextIteration_6\n",
      "encoder-decoder/decoder_1/decoder/while/Exit_1\n",
      "encoder-decoder/decoder_1/decoder/TensorArrayStack/TensorArraySizeV3\n",
      "encoder-decoder/decoder_1/decoder/TensorArrayStack/range/start\n",
      "encoder-decoder/decoder_1/decoder/TensorArrayStack/range/delta\n",
      "encoder-decoder/decoder_1/decoder/TensorArrayStack/range\n",
      "encoder-decoder/decoder_1/decoder/TensorArrayStack/TensorArrayGatherV3\n",
      "encoder-decoder/decoder_1/decoder/Rank\n",
      "encoder-decoder/decoder_1/decoder/range/start\n",
      "encoder-decoder/decoder_1/decoder/range/delta\n",
      "encoder-decoder/decoder_1/decoder/range\n",
      "encoder-decoder/decoder_1/decoder/concat_2/values_0\n",
      "encoder-decoder/decoder_1/decoder/concat_2/axis\n",
      "encoder-decoder/decoder_1/decoder/concat_2\n",
      "encoder-decoder/decoder_1/decoder/transpose\n",
      "encoder-decoder/decoder_pred/dimension\n",
      "encoder-decoder/decoder_pred\n"
     ]
    }
   ],
   "source": [
    "with tf.Session(graph=graph) as sess:\n",
    "    for op in tf.get_default_graph().get_operations():\n",
    "        print(op.name)"
   ]
  },
  {
   "cell_type": "markdown",
   "metadata": {},
   "source": [
    "### Using the graph\n",
    "\n",
    "Now that we've loaded the graph and seen all of the objects in it we can use it to make inferences on some data. We need only to remember the names for the input and output nodes of our TensorFlow graph. In our case they are `encoder-decoder/encoder_input` and `encoder-decoder/ecoder_pred`. We will load those from the graph and they will be used exactly like the placeholders and outputs that we've set up previously during training"
   ]
  },
  {
   "cell_type": "code",
   "execution_count": 5,
   "metadata": {
    "collapsed": true
   },
   "outputs": [],
   "source": [
    "with tf.Session(graph=graph) as sess:\n",
    "    # by convention we need to add the `:0` to the names, this gets us the actual tensor\n",
    "    word_input = graph.get_tensor_by_name('encoder-decoder/encoder_input:0')\n",
    "    predictions = graph.get_tensor_by_name('encoder-decoder/decoder_pred:0')"
   ]
  },
  {
   "cell_type": "markdown",
   "metadata": {},
   "source": [
    "## Make an interactive english to pig latin translator\n",
    "\n",
    "Lets allow the user to enter some input and have the network translate it."
   ]
  },
  {
   "cell_type": "code",
   "execution_count": 6,
   "metadata": {
    "collapsed": false
   },
   "outputs": [
    {
     "name": "stdout",
     "output_type": "stream",
     "text": [
      "Enter a phrase to translate: translate this into pig latin please\n"
     ]
    }
   ],
   "source": [
    "eng_phrase = input('Enter a phrase to translate: ')"
   ]
  },
  {
   "cell_type": "markdown",
   "metadata": {},
   "source": [
    "### Do the translation"
   ]
  },
  {
   "cell_type": "code",
   "execution_count": 9,
   "metadata": {
    "collapsed": false
   },
   "outputs": [
    {
     "name": "stdout",
     "output_type": "stream",
     "text": [
      "tanrsatleay histsay igorcay igcay atilnsay pelaseay\n"
     ]
    }
   ],
   "source": [
    "chars = string.ascii_letters + '>_'\n",
    "char2idx = {ch: i for i, ch in enumerate(chars)}\n",
    "idx2char = {i: ch for i, ch in enumerate(chars)}\n",
    "\n",
    "with tf.Session(graph=graph) as sess:\n",
    "    word_input = graph.get_tensor_by_name('encoder-decoder/encoder_input:0')\n",
    "    predictions = graph.get_tensor_by_name('encoder-decoder/decoder_pred:0')\n",
    "\n",
    "    output_translation = []\n",
    "    for word in eng_phrase.split():\n",
    "\n",
    "        val_input = [char2idx[c] for c in word]\n",
    "        val_input = np.asarray(val_input).reshape(1, len(val_input))\n",
    "\n",
    "        # for the inference mode we only pass the english word to translate\n",
    "        prediction = sess.run(predictions, feed_dict={word_input: val_input})\n",
    "\n",
    "\n",
    "        output_translation.append(''.join([idx2char[idx] for idx in prediction[0]]))\n",
    "\n",
    "    print(' '.join(output_translation).replace('_', ''))"
   ]
  },
  {
   "cell_type": "code",
   "execution_count": null,
   "metadata": {
    "collapsed": true
   },
   "outputs": [],
   "source": []
  }
 ],
 "metadata": {
  "anaconda-cloud": {},
  "kernelspec": {
   "display_name": "Python [default]",
   "language": "python",
   "name": "python3"
  },
  "language_info": {
   "codemirror_mode": {
    "name": "ipython",
    "version": 3
   },
   "file_extension": ".py",
   "mimetype": "text/x-python",
   "name": "python",
   "nbconvert_exporter": "python",
   "pygments_lexer": "ipython3",
   "version": "3.5.4"
  }
 },
 "nbformat": 4,
 "nbformat_minor": 2
}
