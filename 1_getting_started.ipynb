{
 "cells": [
  {
   "cell_type": "markdown",
   "metadata": {},
   "source": [
    "# Getting Started with Tensorflow\n",
    "\n",
    "Tensorflow is a framework for defining and running computational graphs. It's primarily used for deep learning although it can also be used for other numerical computing and machine learning tasks.  "
   ]
  },
  {
   "cell_type": "code",
   "execution_count": 41,
   "metadata": {},
   "outputs": [],
   "source": [
    "import numpy as np\n",
    "import tensorflow as tf"
   ]
  },
  {
   "cell_type": "markdown",
   "metadata": {},
   "source": [
    "## Tensorflow Graphs and Sessions\n",
    "\n",
    "Tensorflow uses computational graphs to run its functions and models. Graphs are defined by their operations and variables.\n",
    "\n",
    "Sessions are used to run the a graph. They create the connection between the python program and the C++ TF runtime. Setting up the graph, variables and operations can be done outside the session. But, nothing will be run until it's connected to the session and we evaluate the expression that we created."
   ]
  },
  {
   "cell_type": "code",
   "execution_count": 42,
   "metadata": {},
   "outputs": [
    {
     "name": "stdout",
     "output_type": "stream",
     "text": [
      "<class 'tensorflow.python.framework.ops.Tensor'>\n"
     ]
    }
   ],
   "source": [
    "# set up two variables\n",
    "x = tf.constant(32, name='x')\n",
    "y = tf.constant(45, name='y')\n",
    "\n",
    "# set up some expression to perform on these variables\n",
    "f = x*y + y*x*y\n",
    "\n",
    "print(type(f))"
   ]
  },
  {
   "cell_type": "code",
   "execution_count": 43,
   "metadata": {},
   "outputs": [
    {
     "name": "stdout",
     "output_type": "stream",
     "text": [
      "Tensorflow Output: 66240\n",
      "Python Output: 66240\n"
     ]
    }
   ],
   "source": [
    "with tf.Session() as sess:\n",
    "    result = f.eval()\n",
    "    print('Tensorflow Output:', result)\n",
    "    \n",
    "print('Python Output:', 32*45 + 45*32*45)"
   ]
  },
  {
   "cell_type": "markdown",
   "metadata": {},
   "source": [
    "### Placeholders\n",
    "\n",
    "The example that we just set up isn't particularly useful except to add those two specific numbers together. Instead what if we wanted to create a TensorFlow graph that will add any two user defined numbers together? We would want to use use something called a `tf.placeholder` instead of the `tf.variable`. A `tf.placeholder` is an empty bucket used to hold user defined values. Since TensorFlow works by defining computational graphs before running we need to have these placeholders in the graph so that they are accounted for when setting up the graph.\n",
    "\n",
    "If we set up our `x` and `y` in the following way we will be able to pass values into those buckets when we run the graph. The shape parameter here tells TF to set up buckets of length 1 to hold the scalars that we will pass to the network.\n",
    "\n",
    "```python\n",
    "x = tf.placeholder(tf.int32, shape=(1,), name='x_phldr')\n",
    "y = tf.placeholder(tf.int32, shape=(1,), name='y_phldr')\n",
    "```\n",
    "\n",
    "Note, that we need to define the data type and shape of the data that we will pass our graph. If you try to pass a different type or different shape we will get an error.\n",
    "\n",
    "### Feed Dictionary\n",
    "\n",
    "To actually pass some values to the placeholders we will use the `feed_dict` parameter when we run the session. We will pass a dictionary with the keys matching the names of our placeholders and the corresponding values as the data to go into each placeholder.\n",
    "\n",
    "```python\n",
    "sess.run(z, feed_dict={x:[32], y:[45]})\n",
    "```"
   ]
  },
  {
   "cell_type": "markdown",
   "metadata": {},
   "source": [
    "# Exercise: \n",
    "\n",
    "Use placeholders to create a system that can add any two numbers. Since we will primarily be doing machine learning with TensorFlow we don't necessarily want the data in our graph at the start. We want to have buckets that we can put data into and get some result. Set up the same system as above except this time using placeholders so that we can pass values into it."
   ]
  },
  {
   "cell_type": "code",
   "execution_count": null,
   "metadata": {
    "collapsed": true
   },
   "outputs": [],
   "source": []
  },
  {
   "cell_type": "markdown",
   "metadata": {},
   "source": [
    "### Answer "
   ]
  },
  {
   "cell_type": "code",
   "execution_count": 44,
   "metadata": {},
   "outputs": [
    {
     "name": "stdout",
     "output_type": "stream",
     "text": [
      "[66240]\n"
     ]
    }
   ],
   "source": [
    "x = tf.placeholder(tf.int32, shape=(1,), name='x_phldr')\n",
    "y = tf.placeholder(tf.int32, shape=(1,), name='y_phldr')\n",
    "z = x*y + y*x*y\n",
    "\n",
    "with tf.Session() as sess:\n",
    "    result = sess.run(z, feed_dict={x:[32], y:[45]})\n",
    "    \n",
    "print(result)"
   ]
  },
  {
   "cell_type": "markdown",
   "metadata": {},
   "source": [
    "# Matrix Operations with TensorFlow\n",
    "\n",
    "Most machine learning tasks will require us to perform operations on vectors, matrices, and tensors. TensorFlow will obviously have good support for these types of operations (tensor is in the name!). We will create a TensorFlow graph to perform a dot product on a matrix and a vector. One of the most common issues when create deep learning models is that the shapes of the various matrices and tensors are not compatible. This example will get us thinking about those shapes.\n",
    "\n",
    "We will start out with two place holders here. This time we will define the shapes in an interesting way. Remember performing a dot product with an mxn matrix and a nx1 vector will produce a mx1 vector. It is only necessary for the number of columns in the matrix to match the number of rows in the vector. TensorFlow can make use of this and allow to set the m dimension to an arbitrary value, allow us to pass a matrix with any number of rows into that placeholder. This comes into play when we do mini-batch gradient descent becuase we will be able to change the batch size without having to change the computational graph.\n",
    "\n",
    "By putting in `None` as an argument in the shape parameter, this allows TensorFlow the freedom to receive a matrix with an arbitrary number of rows for that placeholder. The only shape constraint that we have here is that the second dimension of the matrix must match the first dimension of the vector."
   ]
  },
  {
   "cell_type": "code",
   "execution_count": 45,
   "metadata": {},
   "outputs": [],
   "source": [
    "M = tf.placeholder(tf.float32, shape=(None, 10), name='Matrix')\n",
    "v = tf.placeholder(tf.float32, shape=(10, 1), name='vector')\n",
    "\n",
    "dot_product = tf.matmul(M, v)"
   ]
  },
  {
   "cell_type": "markdown",
   "metadata": {},
   "source": [
    "### Exercise\n",
    "\n",
    "Feed matrices and vectors of various sizes into this dot product by using a TensorFlow `session` and `feed_dict`. Create the matrices and vectors with numpy, using something like `np.random.uniform()` would work well here since it's size parameter will allow you to quickly make new matrices. \n",
    "\n",
    "Try to guess what the size of the resulting vector will be. Also make sure to change the sizes of the free dimension in the matrix and see how that changes the output size. You are also  encouraged to purposefully cause errors by mismatching the sizes. These types of errors will crop up from time to time when doing deep learning, so it's good to see what they look like."
   ]
  },
  {
   "cell_type": "code",
   "execution_count": null,
   "metadata": {
    "collapsed": true
   },
   "outputs": [],
   "source": []
  },
  {
   "cell_type": "markdown",
   "metadata": {},
   "source": [
    "### Answer"
   ]
  },
  {
   "cell_type": "code",
   "execution_count": 46,
   "metadata": {},
   "outputs": [
    {
     "name": "stdout",
     "output_type": "stream",
     "text": [
      "Got a vector of shape (4, 1)\n",
      "[[2.6219077]\n",
      " [1.7841469]\n",
      " [2.8662496]\n",
      " [1.9408131]]\n"
     ]
    }
   ],
   "source": [
    "np_matrix = np.random.uniform(0, 1, size=(4, 10))\n",
    "np_vector = np.random.uniform(0, 1, size=(10, 1))\n",
    "\n",
    "with tf.Session() as sess:\n",
    "    result = sess.run(dot_product, feed_dict={M: np_matrix, \n",
    "                                              v: np_vector})\n",
    "\n",
    "print('Got a vector of shape {}'.format(result.shape))\n",
    "print(result)"
   ]
  },
  {
   "cell_type": "markdown",
   "metadata": {},
   "source": [
    "### Other matrix operations in TensorFlow\n",
    "\n",
    "Matrix multiplies will be the most common operation when doing deep learning but we will also have to make use of some others. Especiallly if we decide that we need to create a custom loss function to train our neural networks.\n",
    "\n",
    "```python\n",
    "tf.mul(x, y) # element-wise multiplication\n",
    "tf.add(x, y) # add two tensors of the same type\n",
    "tf.sub(x, y) # subratct two tensors of the same type\n",
    "tf.pow(x, y) # element-wise power of tensor x to y\n",
    "tf.exp(x) # take the elementwise exponential of the tensor x, with Euler's number as the base\n",
    "tf.sqrt(x) # takes the square root of each element in a tensor\n",
    "tf.div(x, y) # divides two tensors element-wise\n",
    "```\n",
    "\n",
    "### Exercise\n",
    "\n",
    "Create some TensorFlow graphs using some combination of the above operations and run them. Try to work out any shape errors that arise and get one graph running with at least two of these operations. "
   ]
  },
  {
   "cell_type": "code",
   "execution_count": null,
   "metadata": {
    "collapsed": true
   },
   "outputs": [],
   "source": []
  },
  {
   "cell_type": "markdown",
   "metadata": {},
   "source": [
    "# Basic Linear Regression in Tensorflow\n",
    "\n",
    "In order to make use of TensorFlow's automatic differentiation capabilities we will set up a basic linear regression problem and train it with stochastic gradient descent. This toy example will actually look very similar to setting up a larger neural network and training. In fact we can make the case that linear regression is the simplist type of neural network (a single neuron without an activation function). \n",
    "\n",
    "We will use built in optimizers and gradient descent algorithms.\n",
    "\n",
    "\n",
    "### Import some additional packages and load the data into a usuable form"
   ]
  },
  {
   "cell_type": "code",
   "execution_count": 47,
   "metadata": {},
   "outputs": [],
   "source": [
    "import pandas as pd\n",
    "from sklearn.cross_validation import train_test_split\n",
    "\n",
    "%matplotlib inline\n",
    "import matplotlib.pyplot as plt\n",
    "\n",
    "def normalize(data):\n",
    "    mean = np.mean(data, axis=0)\n",
    "    std = np.std(data, axis=0)\n",
    "    return (data - mean) / std"
   ]
  },
  {
   "cell_type": "code",
   "execution_count": 48,
   "metadata": {},
   "outputs": [
    {
     "data": {
      "text/html": [
       "<div>\n",
       "<style>\n",
       "    .dataframe thead tr:only-child th {\n",
       "        text-align: right;\n",
       "    }\n",
       "\n",
       "    .dataframe thead th {\n",
       "        text-align: left;\n",
       "    }\n",
       "\n",
       "    .dataframe tbody tr th {\n",
       "        vertical-align: top;\n",
       "    }\n",
       "</style>\n",
       "<table border=\"1\" class=\"dataframe\">\n",
       "  <thead>\n",
       "    <tr style=\"text-align: right;\">\n",
       "      <th></th>\n",
       "      <th>id</th>\n",
       "      <th>date</th>\n",
       "      <th>price</th>\n",
       "      <th>bedrooms</th>\n",
       "      <th>bathrooms</th>\n",
       "      <th>sqft_living</th>\n",
       "      <th>sqft_lot</th>\n",
       "      <th>floors</th>\n",
       "      <th>waterfront</th>\n",
       "      <th>view</th>\n",
       "      <th>...</th>\n",
       "      <th>grade</th>\n",
       "      <th>sqft_above</th>\n",
       "      <th>sqft_basement</th>\n",
       "      <th>yr_built</th>\n",
       "      <th>yr_renovated</th>\n",
       "      <th>zipcode</th>\n",
       "      <th>lat</th>\n",
       "      <th>long</th>\n",
       "      <th>sqft_living15</th>\n",
       "      <th>sqft_lot15</th>\n",
       "    </tr>\n",
       "  </thead>\n",
       "  <tbody>\n",
       "    <tr>\n",
       "      <th>0</th>\n",
       "      <td>7129300520</td>\n",
       "      <td>20141013T000000</td>\n",
       "      <td>221900.0</td>\n",
       "      <td>3</td>\n",
       "      <td>1.00</td>\n",
       "      <td>1180</td>\n",
       "      <td>5650</td>\n",
       "      <td>1.0</td>\n",
       "      <td>0</td>\n",
       "      <td>0</td>\n",
       "      <td>...</td>\n",
       "      <td>7</td>\n",
       "      <td>1180</td>\n",
       "      <td>0</td>\n",
       "      <td>1955</td>\n",
       "      <td>0</td>\n",
       "      <td>98178</td>\n",
       "      <td>47.5112</td>\n",
       "      <td>-122.257</td>\n",
       "      <td>1340</td>\n",
       "      <td>5650</td>\n",
       "    </tr>\n",
       "    <tr>\n",
       "      <th>1</th>\n",
       "      <td>6414100192</td>\n",
       "      <td>20141209T000000</td>\n",
       "      <td>538000.0</td>\n",
       "      <td>3</td>\n",
       "      <td>2.25</td>\n",
       "      <td>2570</td>\n",
       "      <td>7242</td>\n",
       "      <td>2.0</td>\n",
       "      <td>0</td>\n",
       "      <td>0</td>\n",
       "      <td>...</td>\n",
       "      <td>7</td>\n",
       "      <td>2170</td>\n",
       "      <td>400</td>\n",
       "      <td>1951</td>\n",
       "      <td>1991</td>\n",
       "      <td>98125</td>\n",
       "      <td>47.7210</td>\n",
       "      <td>-122.319</td>\n",
       "      <td>1690</td>\n",
       "      <td>7639</td>\n",
       "    </tr>\n",
       "    <tr>\n",
       "      <th>2</th>\n",
       "      <td>5631500400</td>\n",
       "      <td>20150225T000000</td>\n",
       "      <td>180000.0</td>\n",
       "      <td>2</td>\n",
       "      <td>1.00</td>\n",
       "      <td>770</td>\n",
       "      <td>10000</td>\n",
       "      <td>1.0</td>\n",
       "      <td>0</td>\n",
       "      <td>0</td>\n",
       "      <td>...</td>\n",
       "      <td>6</td>\n",
       "      <td>770</td>\n",
       "      <td>0</td>\n",
       "      <td>1933</td>\n",
       "      <td>0</td>\n",
       "      <td>98028</td>\n",
       "      <td>47.7379</td>\n",
       "      <td>-122.233</td>\n",
       "      <td>2720</td>\n",
       "      <td>8062</td>\n",
       "    </tr>\n",
       "    <tr>\n",
       "      <th>3</th>\n",
       "      <td>2487200875</td>\n",
       "      <td>20141209T000000</td>\n",
       "      <td>604000.0</td>\n",
       "      <td>4</td>\n",
       "      <td>3.00</td>\n",
       "      <td>1960</td>\n",
       "      <td>5000</td>\n",
       "      <td>1.0</td>\n",
       "      <td>0</td>\n",
       "      <td>0</td>\n",
       "      <td>...</td>\n",
       "      <td>7</td>\n",
       "      <td>1050</td>\n",
       "      <td>910</td>\n",
       "      <td>1965</td>\n",
       "      <td>0</td>\n",
       "      <td>98136</td>\n",
       "      <td>47.5208</td>\n",
       "      <td>-122.393</td>\n",
       "      <td>1360</td>\n",
       "      <td>5000</td>\n",
       "    </tr>\n",
       "    <tr>\n",
       "      <th>4</th>\n",
       "      <td>1954400510</td>\n",
       "      <td>20150218T000000</td>\n",
       "      <td>510000.0</td>\n",
       "      <td>3</td>\n",
       "      <td>2.00</td>\n",
       "      <td>1680</td>\n",
       "      <td>8080</td>\n",
       "      <td>1.0</td>\n",
       "      <td>0</td>\n",
       "      <td>0</td>\n",
       "      <td>...</td>\n",
       "      <td>8</td>\n",
       "      <td>1680</td>\n",
       "      <td>0</td>\n",
       "      <td>1987</td>\n",
       "      <td>0</td>\n",
       "      <td>98074</td>\n",
       "      <td>47.6168</td>\n",
       "      <td>-122.045</td>\n",
       "      <td>1800</td>\n",
       "      <td>7503</td>\n",
       "    </tr>\n",
       "  </tbody>\n",
       "</table>\n",
       "<p>5 rows × 21 columns</p>\n",
       "</div>"
      ],
      "text/plain": [
       "           id             date     price  bedrooms  bathrooms  sqft_living  \\\n",
       "0  7129300520  20141013T000000  221900.0         3       1.00         1180   \n",
       "1  6414100192  20141209T000000  538000.0         3       2.25         2570   \n",
       "2  5631500400  20150225T000000  180000.0         2       1.00          770   \n",
       "3  2487200875  20141209T000000  604000.0         4       3.00         1960   \n",
       "4  1954400510  20150218T000000  510000.0         3       2.00         1680   \n",
       "\n",
       "   sqft_lot  floors  waterfront  view     ...      grade  sqft_above  \\\n",
       "0      5650     1.0           0     0     ...          7        1180   \n",
       "1      7242     2.0           0     0     ...          7        2170   \n",
       "2     10000     1.0           0     0     ...          6         770   \n",
       "3      5000     1.0           0     0     ...          7        1050   \n",
       "4      8080     1.0           0     0     ...          8        1680   \n",
       "\n",
       "   sqft_basement  yr_built  yr_renovated  zipcode      lat     long  \\\n",
       "0              0      1955             0    98178  47.5112 -122.257   \n",
       "1            400      1951          1991    98125  47.7210 -122.319   \n",
       "2              0      1933             0    98028  47.7379 -122.233   \n",
       "3            910      1965             0    98136  47.5208 -122.393   \n",
       "4              0      1987             0    98074  47.6168 -122.045   \n",
       "\n",
       "   sqft_living15  sqft_lot15  \n",
       "0           1340        5650  \n",
       "1           1690        7639  \n",
       "2           2720        8062  \n",
       "3           1360        5000  \n",
       "4           1800        7503  \n",
       "\n",
       "[5 rows x 21 columns]"
      ]
     },
     "execution_count": 48,
     "metadata": {},
     "output_type": "execute_result"
    }
   ],
   "source": [
    "house_dat = pd.read_csv('Housing_data/kc_house_data.csv')\n",
    "house_dat.head()"
   ]
  },
  {
   "cell_type": "markdown",
   "metadata": {},
   "source": [
    "### Import the california housing dataset, view the shapes."
   ]
  },
  {
   "cell_type": "code",
   "execution_count": 49,
   "metadata": {},
   "outputs": [
    {
     "name": "stdout",
     "output_type": "stream",
     "text": [
      "(19451, 18)\n",
      "(19451, 1)\n"
     ]
    }
   ],
   "source": [
    "\n",
    "# load the data into numpy arrays\n",
    "housing_features = house_dat[house_dat.columns.difference(['id', 'price', 'date', 'zipcode'])].values\n",
    "housing_targets = house_dat.price.values\n",
    "housing_targets = housing_targets / np.max(housing_targets)\n",
    "\n",
    "n, f_dim = housing_features.shape\n",
    "\n",
    "# normalize the features\n",
    "housing_features= normalize(housing_features)\n",
    "\n",
    "# add bias\n",
    "housing_features = np.c_[np.ones((n, 1)), housing_features]\n",
    "\n",
    "# reshape targets to TF expectation\n",
    "housing_targets = np.expand_dims(housing_targets, 1)\n",
    "\n",
    "X_train, X_test, y_train, y_test = train_test_split(housing_features,\n",
    "                                                    housing_targets,\n",
    "                                                    test_size=0.1)\n",
    "\n",
    "print(X_train.shape)\n",
    "print(y_train.shape)"
   ]
  },
  {
   "cell_type": "markdown",
   "metadata": {},
   "source": [
    "## Set up our linear regression model\n",
    "\n",
    "One great thing about TensorFlow is that if we set up all of our `tf.Variables` and `tf.placeholders` we can then define a bunch of functions that use those. TensorFlow will take care of assembling those functions into a graph when we go to run it. \n",
    "\n",
    "We will define our buckets for the user provided values as `tf.placeholders` name `X` and `y`. We will define out weight matrix for the regression with a `tf.Variable` called `W`. A `tf.Variable` is something that can be updated via Stochastic Gradient Descent or other training algorithms. Here we defining the values that the `tf.Variable` will be initialized to at the start of training."
   ]
  },
  {
   "cell_type": "code",
   "execution_count": 50,
   "metadata": {},
   "outputs": [],
   "source": [
    "X = tf.placeholder(tf.float32, shape=(None, f_dim+1), name='X')\n",
    "y = tf.placeholder(tf.float32, shape=(None, 1), name='y')\n",
    "W = tf.Variable(tf.ones([f_dim+1, 1])) # we add one dimension here so we have a bias"
   ]
  },
  {
   "cell_type": "markdown",
   "metadata": {},
   "source": [
    "Setting up the actual calculation simply involves taking the matrix multiply of the weight matrix and feature vectors. Doing this will give us a housing price prediction for each example. \n",
    "\n",
    "To set up the loss function we take the difference between the predicted value and the true value. Then we square that difference and take the mean over all the examples, this loss is called Mean Squared Error.\n",
    "\n",
    "We then use the `tf.train.GradientDescentOptimizer` which takes a learning rate as a parameter and tell it to minimize the loss function that we set up. \n",
    "\n",
    "This takes care of the necessary set up to allow our regression to train"
   ]
  },
  {
   "cell_type": "code",
   "execution_count": 51,
   "metadata": {},
   "outputs": [],
   "source": [
    "# set up operation to get the output from the regression, \n",
    "# dot product of weight  and features\n",
    "y_pred = tf.matmul(X, W)\n",
    "\n",
    "# calculate the mean squared error\n",
    "error = y_pred - y\n",
    "loss = tf.reduce_mean(tf.square(error), name='mse')\n",
    "\n",
    "# use TF's built in autograd features to run gradient descent\n",
    "train_step = tf.train.GradientDescentOptimizer(learning_rate=0.005).minimize(loss)"
   ]
  },
  {
   "cell_type": "markdown",
   "metadata": {},
   "source": [
    "When running a TensorFlow graph we need to start a session and use the session to run the graphs that we have built above. Running the loss graph will give us the current `loss` values, running the `training_step` graph will update the weights `W` that we stored in a `tf.Variable`.\n",
    "\n",
    "A few TensorFlow quirks. When we start a session that contains `tf.Variables` that we want to update we have to initialize those `tf.Variables` in order for them to be updated during the training steps. Additionally, we can save our session states using `tf.train.Saver()`, this will allow us to load up the session later and test our model on the testing data that we previously set aside."
   ]
  },
  {
   "cell_type": "code",
   "execution_count": 52,
   "metadata": {
    "scrolled": false
   },
   "outputs": [
    {
     "name": "stdout",
     "output_type": "stream",
     "text": [
      "Epoch: 0 Current loss: 60.145836 Test loss: 65.90065\n",
      "Epoch: 100 Current loss: 0.93439186 Test loss: 1.016797\n",
      "Epoch: 200 Current loss: 0.24318606 Test loss: 0.24392053\n",
      "Epoch: 300 Current loss: 0.08425596 Test loss: 0.08223219\n",
      "Epoch: 400 Current loss: 0.03517431 Test loss: 0.033933394\n",
      "Epoch: 500 Current loss: 0.017164774 Test loss: 0.016484886\n",
      "Epoch: 600 Current loss: 0.009472387 Test loss: 0.009093812\n",
      "Epoch: 700 Current loss: 0.005725675 Test loss: 0.0055056233\n",
      "Epoch: 800 Current loss: 0.003710477 Test loss: 0.0035760263\n",
      "Epoch: 900 Current loss: 0.0025523466 Test loss: 0.0024659673\n",
      "Epoch: 1000 Current loss: 0.001858741 Test loss: 0.0018004031\n",
      "Epoch: 1100 Current loss: 0.0014326428 Test loss: 0.0013911442\n",
      "Epoch: 1200 Current loss: 0.0011665676 Test loss: 0.0011353475\n",
      "Epoch: 1300 Current loss: 0.0009985287 Test loss: 0.0009735912\n",
      "Epoch: 1400 Current loss: 0.00089149334 Test loss: 0.0008703359\n",
      "Epoch: 1500 Current loss: 0.00082283956 Test loss: 0.00080386654\n",
      "Epoch: 1600 Current loss: 0.0007785402 Test loss: 0.0007607286\n",
      "Epoch: 1700 Current loss: 0.00074980315 Test loss: 0.0007324978\n",
      "Epoch: 1800 Current loss: 0.00073107076 Test loss: 0.00071385776\n",
      "Epoch: 1900 Current loss: 0.00071880734 Test loss: 0.00070143084\n"
     ]
    }
   ],
   "source": [
    "saver = tf.train.Saver()\n",
    "\n",
    "# after launching a session, run the initializer to initialize all of\n",
    "# the variables in the graph\n",
    "init = tf.global_variables_initializer()\n",
    "\n",
    "EPOCHS = 2000\n",
    "# save all of the losses\n",
    "losses = []\n",
    "\n",
    "with tf.Session() as sess:\n",
    "    sess.run(init)\n",
    "    \n",
    "    for e in range(EPOCHS):\n",
    "        if e % 100 == 0:\n",
    "            print(\"Epoch:\", e, \n",
    "                  \"Current loss:\", \n",
    "                  sess.run(loss, feed_dict={X: X_train, y: y_train}), \n",
    "                  \"Test loss:\",\n",
    "                 sess.run(loss, feed_dict={X: X_test, y: y_test}))\n",
    "            \n",
    "        sess.run(train_step, feed_dict={X: X_train, y: y_train})\n",
    "        losses.append(sess.run(loss, feed_dict={X: X_train, y: y_train}))\n",
    "        \n",
    "    best_weights = W.eval()\n",
    "    save_path = saver.save(sess, '/tmp/linear_regression.ckpt')"
   ]
  },
  {
   "cell_type": "code",
   "execution_count": 53,
   "metadata": {},
   "outputs": [
    {
     "data": {
      "image/png": "[encoded data removed]",
      "text/plain": [
       "<matplotlib.figure.Figure at 0x108460ef0>"
      ]
     },
     "metadata": {},
     "output_type": "display_data"
    }
   ],
   "source": [
    "plt.plot(range(len(losses)),np.array(losses))\n",
    "plt.axis([0,EPOCHS,np.min(losses),np.max(losses[100:])])\n",
    "plt.show()"
   ]
  },
  {
   "cell_type": "markdown",
   "metadata": {},
   "source": [
    "# Exercise\n",
    "\n",
    "### Making predictions on our test data\n",
    "\n",
    "Now that we have our trained model, we can load it up and make predictions on our test set. Load the model from the stored state, and run the prediction function with a TensorFlow Session on the testing data."
   ]
  },
  {
   "cell_type": "code",
   "execution_count": 54,
   "metadata": {},
   "outputs": [
    {
     "name": "stdout",
     "output_type": "stream",
     "text": [
      "INFO:tensorflow:Restoring parameters from /tmp/linear_regression.ckpt\n"
     ]
    }
   ],
   "source": [
    "# best weight values are saved in the checkpoint\n",
    "with tf.Session() as sess:\n",
    "    saver.restore(sess, '/tmp/linear_regression.ckpt')\n",
    "    # fill in the rest below"
   ]
  },
  {
   "cell_type": "markdown",
   "metadata": {},
   "source": [
    "### Answer"
   ]
  },
  {
   "cell_type": "code",
   "execution_count": 55,
   "metadata": {
    "scrolled": false
   },
   "outputs": [
    {
     "name": "stdout",
     "output_type": "stream",
     "text": [
      "INFO:tensorflow:Restoring parameters from /tmp/linear_regression.ckpt\n"
     ]
    }
   ],
   "source": [
    "# best weight values are saved in the checkpoint\n",
    "with tf.Session() as sess:\n",
    "    saver.restore(sess, '/tmp/linear_regression.ckpt')\n",
    "    preds = sess.run(y_pred, feed_dict={X: X_test})\n",
    "    #print(sess.run(loss, feed_dict={X: X_test, y: y_test}))"
   ]
  },
  {
   "cell_type": "code",
   "execution_count": 56,
   "metadata": {},
   "outputs": [
    {
     "data": {
      "image/png": "[encoded data removed]",
      "text/plain": [
       "<matplotlib.figure.Figure at 0x1a230524a8>"
      ]
     },
     "metadata": {},
     "output_type": "display_data"
    }
   ],
   "source": [
    "fig, ax = plt.subplots()\n",
    "ax.scatter(y_test, preds)\n",
    "ax.plot([y_test.min(), y_test.max()], \n",
    "        [y_test.min(), y_test.max()], '--', lw=3, color='r')\n",
    "ax.set_xlabel('True Value')\n",
    "ax.set_ylabel('Predicted')\n",
    "plt.show()"
   ]
  },
  {
   "cell_type": "code",
   "execution_count": null,
   "metadata": {
    "collapsed": true
   },
   "outputs": [],
   "source": []
  }
 ],
 "metadata": {
  "anaconda-cloud": {},
  "kernelspec": {
   "display_name": "Python 2",
   "language": "python",
   "name": "python2"
  },
  "language_info": {
   "codemirror_mode": {
    "name": "ipython",
    "version": 2
   },
   "file_extension": ".py",
   "mimetype": "text/x-python",
   "name": "python",
   "nbconvert_exporter": "python",
   "pygments_lexer": "ipython2",
   "version": "2.7.13"
  }
 },
 "nbformat": 4,
 "nbformat_minor": 1
}
