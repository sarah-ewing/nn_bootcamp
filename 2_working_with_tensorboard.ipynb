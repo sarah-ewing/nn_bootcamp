{
 "cells": [
  {
   "cell_type": "code",
   "execution_count": 1,
   "metadata": {
    "collapsed": false
   },
   "outputs": [
    {
     "name": "stderr",
     "output_type": "stream",
     "text": [
      "/Users/florianmuellerklein/anaconda3/lib/python3.5/importlib/_bootstrap.py:222: RuntimeWarning: compiletime version 3.6 of module 'tensorflow.python.framework.fast_tensor_util' does not match runtime version 3.5\n",
      "  return f(*args, **kwds)\n",
      "/Users/florianmuellerklein/anaconda3/lib/python3.5/site-packages/h5py/__init__.py:34: FutureWarning: Conversion of the second argument of issubdtype from `float` to `np.floating` is deprecated. In future, it will be treated as `np.float64 == np.dtype(float).type`.\n",
      "  from ._conv import register_converters as _register_converters\n"
     ]
    }
   ],
   "source": [
    "import tensorflow as tf"
   ]
  },
  {
   "cell_type": "markdown",
   "metadata": {},
   "source": [
    "# TensorBoard\n",
    "\n",
    "TensorBoard is a rich visualization utility provided by TensorFlow. It allows us to view an interactive version of our computational graph, our data, various scalars and more. When doing deep learning it will be most useful to use TensorBoard to plot the loss values in real time and to view the structure of our neural network. \n",
    "\n",
    "!['ConvNet graph'](images/tensorboard.png)\n",
    "\n",
    "\n",
    "## Set up some basic equations"
   ]
  },
  {
   "cell_type": "code",
   "execution_count": 2,
   "metadata": {
    "collapsed": true
   },
   "outputs": [],
   "source": [
    "x = tf.placeholder(tf.int32, shape=(1,), name='x_phldr')\n",
    "y = tf.placeholder(tf.int32, shape=(1,), name='y_phldr')\n",
    "z = x*x + y"
   ]
  },
  {
   "cell_type": "markdown",
   "metadata": {},
   "source": [
    "## Setting up our TensorBoard logging\n",
    "\n",
    "In order to get TensorBoard to read some values we need to write those values to some events log file. The tensorflow `tf.summary` module is used to tell tensorflow which parts of our graph to track during plotting. This is useful for plotting loss functions in real time."
   ]
  },
  {
   "cell_type": "code",
   "execution_count": null,
   "metadata": {
    "collapsed": false
   },
   "outputs": [],
   "source": [
    "z_output = tf.summary.scalar(name='z_output', tensor=tf.squeeze(z))"
   ]
  },
  {
   "cell_type": "markdown",
   "metadata": {},
   "source": [
    "## Log the data\n",
    "\n",
    "We pass the summary operation to sess.run as if it were an operation that we were evaluating. This will return something that we can pass to the summary writer to log for tensorboard. Which we can then add by using `writer.add_summary`.\n",
    "\n",
    "### Plotting in real time\n",
    "\n",
    "Anytime the value for z gets changed that history will be logged to the event file that we've created above. The TensorBoard UI will reflect these changes in real time. To simulate the process of updating the loss values while training a network we will loop over various values of x and use those to draw a plot.\n",
    "\n",
    "While this is running open a terminal and run `tensorboard --logdir=tensorboard_logs/`. Then open a web browser and navigate to `http://localhost:6006/`."
   ]
  },
  {
   "cell_type": "code",
   "execution_count": null,
   "metadata": {
    "collapsed": false
   },
   "outputs": [
    {
     "name": "stdout",
     "output_type": "stream",
     "text": [
      "[2]\n",
      "[3]\n",
      "[6]\n",
      "[11]\n",
      "[18]\n",
      "[27]\n",
      "[38]\n",
      "[51]\n",
      "[66]\n",
      "[83]\n",
      "[102]\n",
      "[123]\n",
      "[146]\n",
      "[171]\n",
      "[198]\n",
      "[227]\n",
      "[258]\n",
      "[291]\n",
      "[326]\n",
      "[363]\n",
      "[402]\n",
      "[443]\n",
      "[486]\n",
      "[531]\n",
      "[578]\n",
      "[627]\n",
      "[678]\n",
      "[731]\n",
      "[786]\n",
      "[843]\n",
      "[902]\n",
      "[963]\n",
      "[1026]\n",
      "[1091]\n",
      "[1158]\n",
      "[1227]\n",
      "[1298]\n",
      "[1371]\n",
      "[1446]\n",
      "[1523]\n",
      "[1602]\n",
      "[1683]\n",
      "[1766]\n",
      "[1851]\n",
      "[1938]\n",
      "[2027]\n",
      "[2118]\n",
      "[2211]\n",
      "[2306]\n",
      "[2403]\n",
      "[2502]\n",
      "[2603]\n",
      "[2706]\n",
      "[2811]\n",
      "[2918]\n",
      "[3027]\n",
      "[3138]\n",
      "[3251]\n",
      "[3366]\n",
      "[3483]\n",
      "[3602]\n",
      "[3723]\n",
      "[3846]\n",
      "[3971]\n",
      "[4098]\n",
      "[4227]\n",
      "[4358]\n",
      "[4491]\n",
      "[4626]\n",
      "[4763]\n",
      "[4902]\n",
      "[5043]\n",
      "[5186]\n",
      "[5331]\n",
      "[5478]\n",
      "[5627]\n",
      "[5778]\n",
      "[5931]\n",
      "[6086]\n",
      "[6243]\n",
      "[6402]\n"
     ]
    }
   ],
   "source": [
    "import time\n",
    "\n",
    "init = tf.global_variables_initializer()\n",
    "\n",
    "with tf.Session() as sess:\n",
    "    sess.run(init)\n",
    "    # initialize the summary writer for TensorBoard\n",
    "    writer = tf.summary.FileWriter('tensorboard_logs/', sess.graph)\n",
    "    \n",
    "    for i in range(100):\n",
    "        # merge all of the summaries that we want TensorBoard to report\n",
    "        #summary = tf.summary.merge([z_output])\n",
    "        # or\n",
    "        summary = tf.summary.merge_all()\n",
    "        \n",
    "        # run the graph\n",
    "        result, summary = sess.run([z, summary], feed_dict={x:[i], y:[2]})\n",
    "        \n",
    "        # write the info the file, summary will be the z value, \n",
    "        # and i will be the step. This will plot how increasing x influences the value of z\n",
    "        writer.add_summary(summary=summary, global_step=i)\n",
    "        writer.flush()\n",
    "    \n",
    "        print(result)\n",
    "        \n",
    "        # add some pause so that we can watch the graph in tensorboard\n",
    "        time.sleep(1)"
   ]
  }
 ],
 "metadata": {
  "anaconda-cloud": {},
  "kernelspec": {
   "display_name": "Python [default]",
   "language": "python",
   "name": "python3"
  },
  "language_info": {
   "codemirror_mode": {
    "name": "ipython",
    "version": 3
   },
   "file_extension": ".py",
   "mimetype": "text/x-python",
   "name": "python",
   "nbconvert_exporter": "python",
   "pygments_lexer": "ipython3",
   "version": "3.5.4"
  }
 },
 "nbformat": 4,
 "nbformat_minor": 2
}
